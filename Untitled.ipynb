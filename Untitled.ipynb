{
 "cells": [
  {
   "cell_type": "code",
   "execution_count": 1,
   "id": "3f00a1fa",
   "metadata": {},
   "outputs": [
    {
     "name": "stdout",
     "output_type": "stream",
     "text": [
      "Welcome to the Shopping Center. Press any key to continue. \n",
      "Type 'shop' to begin shopping.\n",
      "    Type 'cart' to view your cart. \n",
      "    Type 'quit' to quit\n",
      "What is your choice? shop | cart | quit: shop\n",
      "Type in the item you want (or type 'return' to go back): dog\n",
      "Type in the item you want (or type 'return' to go back): cat\n",
      "Type in the item you want (or type 'return' to go back): return\n",
      "Type 'shop' to begin shopping.\n",
      "    Type 'cart' to view your cart. \n",
      "    Type 'quit' to quit\n",
      "What is your choice? shop | cart | quit: cart\n",
      "{'item': 'return'}\n",
      "{'item': 'return'}\n",
      "Type 'shop' to begin shopping.\n",
      "    Type 'cart' to view your cart. \n",
      "    Type 'quit' to quit\n",
      "What is your choice? shop | cart | quit: quit\n",
      "Are you sure you want to quit? Y/N: y\n",
      "Thank you, here is your cart\n",
      "{'item': 'return'}\n"
     ]
    }
   ],
   "source": [
    "\n",
    "def store_input():\n",
    "    print(\"\"\"Type 'shop' to begin shopping.\n",
    "    Type 'cart' to view your cart. \n",
    "    Type 'quit' to quit\"\"\")\n",
    "\n",
    "def cart():\n",
    "    input(\"Welcome to the Shopping Center. Press any key to continue. \")\n",
    "\n",
    "    products = []\n",
    "    done = False\n",
    "\n",
    "    while not done:\n",
    "        \n",
    "        \n",
    "        store_input()\n",
    "\n",
    "        choice = input(\"What is your choice? shop | cart | quit: \").lower()\n",
    "        if choice == \"shop\":\n",
    "            back= False\n",
    "            while not back:     \n",
    "                item = input(\"Type in the item you want (or type 'return' to go back): \").lower()\n",
    "                if item == \"return\":\n",
    "                    back = True\n",
    "                else:\n",
    "                    continue\n",
    "\n",
    "            shopping_cart = {\n",
    "            \"item\" : item,\n",
    "            }\n",
    "\n",
    "            products.append(shopping_cart)\n",
    "\n",
    "        elif choice == \"cart\":\n",
    "            print(shopping_cart)\n",
    "            for product in products:\n",
    "                print(product)\n",
    "        elif choice == \"quit\":\n",
    "            confirm = input(\"Are you sure you want to quit? Y/N: \").lower()\n",
    "            if confirm == \"y\":\n",
    "                print(\"Thank you, here is your cart\")\n",
    "                print(product)\n",
    "                done = True\n",
    "            elif confirm == \"n\":\n",
    "                continue\n",
    "        else:\n",
    "            print(\"That is not a valid entry. Please try again.\")\n",
    "            continue\n",
    "cart()"
   ]
  },
  {
   "cell_type": "code",
   "execution_count": null,
   "id": "a4f1f48c",
   "metadata": {},
   "outputs": [],
   "source": []
  }
 ],
 "metadata": {
  "kernelspec": {
   "display_name": "Python 3",
   "language": "python",
   "name": "python3"
  },
  "language_info": {
   "codemirror_mode": {
    "name": "ipython",
    "version": 3
   },
   "file_extension": ".py",
   "mimetype": "text/x-python",
   "name": "python",
   "nbconvert_exporter": "python",
   "pygments_lexer": "ipython3",
   "version": "3.8.8"
  }
 },
 "nbformat": 4,
 "nbformat_minor": 5
}
